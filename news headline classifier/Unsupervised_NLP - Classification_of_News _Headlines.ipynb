{
 "cells": [
  {
   "cell_type": "markdown",
   "metadata": {},
   "source": [
    "In this project I'll attempt to build models to identify the category of a given news title.\n",
    "\n",
    "# Goals:\n",
    " - Feature generation. `Bag of Words` vs `Latent Semantic Analysis`\n",
    " - Predict outcome variables - `Supervised Learning` (classification)\n",
    " \n",
    "# Dataset: \n",
    "URL: https://www.kaggle.com/uciml/news-aggregator-dataset\n",
    "\n",
    "This dataset contains headlines, URLs, and categories for 422,937 news stories collected by a web aggregator between March 10th, 2014 and August 10th, 2014.\n",
    "News categories included in this dataset include business; science and technology; entertainment; and health. Different news articles that refer to the same news item (e.g., several articles about recently released employment statistics) are also categorized together."
   ]
  },
  {
   "cell_type": "code",
   "execution_count": 1,
   "metadata": {},
   "outputs": [
    {
     "name": "stderr",
     "output_type": "stream",
     "text": [
      "C:\\Users\\hafeez_poldz\\Anaconda3\\lib\\site-packages\\sklearn\\ensemble\\weight_boosting.py:29: DeprecationWarning: numpy.core.umath_tests is an internal NumPy module and should not be imported. It will be removed in a future NumPy release.\n",
      "  from numpy.core.umath_tests import inner1d\n"
     ]
    }
   ],
   "source": [
    "# load libraries\n",
    "import pandas as pd\n",
    "import numpy as np\n",
    "import matplotlib.pyplot as plt\n",
    "import seaborn as sns\n",
    "from collections import Counter\n",
    "import re\n",
    "from time import time\n",
    "import spacy\n",
    "import warnings\n",
    "warnings.filterwarnings('ignore')\n",
    "\n",
    "from sklearn.metrics import make_scorer, normalized_mutual_info_score\n",
    "from sklearn.model_selection import train_test_split, GridSearchCV, cross_val_score\n",
    "from sklearn.feature_extraction.text import TfidfVectorizer\n",
    "from sklearn.decomposition import TruncatedSVD\n",
    "from sklearn.pipeline import make_pipeline\n",
    "from sklearn.preprocessing import Normalizer\n",
    "\n",
    "from sklearn.linear_model import LogisticRegression\n",
    "from sklearn.svm import SVC\n",
    "from sklearn.ensemble import RandomForestClassifier\n",
    "from sklearn.neural_network import MLPClassifier\n",
    "import xgboost as xgb"
   ]
  },
  {
   "cell_type": "markdown",
   "metadata": {},
   "source": [
    "## 1. Explarotary Data Analysis \n",
    "Quick overview of the dataset"
   ]
  },
  {
   "cell_type": "code",
   "execution_count": 2,
   "metadata": {},
   "outputs": [
    {
     "data": {
      "text/html": [
       "<div>\n",
       "<style scoped>\n",
       "    .dataframe tbody tr th:only-of-type {\n",
       "        vertical-align: middle;\n",
       "    }\n",
       "\n",
       "    .dataframe tbody tr th {\n",
       "        vertical-align: top;\n",
       "    }\n",
       "\n",
       "    .dataframe thead th {\n",
       "        text-align: right;\n",
       "    }\n",
       "</style>\n",
       "<table border=\"1\" class=\"dataframe\">\n",
       "  <thead>\n",
       "    <tr style=\"text-align: right;\">\n",
       "      <th></th>\n",
       "      <th>ID</th>\n",
       "      <th>TITLE</th>\n",
       "      <th>URL</th>\n",
       "      <th>PUBLISHER</th>\n",
       "      <th>CATEGORY</th>\n",
       "      <th>STORY</th>\n",
       "      <th>HOSTNAME</th>\n",
       "      <th>TIMESTAMP</th>\n",
       "    </tr>\n",
       "  </thead>\n",
       "  <tbody>\n",
       "    <tr>\n",
       "      <th>0</th>\n",
       "      <td>1</td>\n",
       "      <td>Fed official says weak data caused by weather,...</td>\n",
       "      <td>http://www.latimes.com/business/money/la-fi-mo...</td>\n",
       "      <td>Los Angeles Times</td>\n",
       "      <td>b</td>\n",
       "      <td>ddUyU0VZz0BRneMioxUPQVP6sIxvM</td>\n",
       "      <td>www.latimes.com</td>\n",
       "      <td>1394470370698</td>\n",
       "    </tr>\n",
       "    <tr>\n",
       "      <th>1</th>\n",
       "      <td>2</td>\n",
       "      <td>Fed's Charles Plosser sees high bar for change...</td>\n",
       "      <td>http://www.livemint.com/Politics/H2EvwJSK2VE6O...</td>\n",
       "      <td>Livemint</td>\n",
       "      <td>b</td>\n",
       "      <td>ddUyU0VZz0BRneMioxUPQVP6sIxvM</td>\n",
       "      <td>www.livemint.com</td>\n",
       "      <td>1394470371207</td>\n",
       "    </tr>\n",
       "  </tbody>\n",
       "</table>\n",
       "</div>"
      ],
      "text/plain": [
       "   ID                                              TITLE  \\\n",
       "0   1  Fed official says weak data caused by weather,...   \n",
       "1   2  Fed's Charles Plosser sees high bar for change...   \n",
       "\n",
       "                                                 URL          PUBLISHER  \\\n",
       "0  http://www.latimes.com/business/money/la-fi-mo...  Los Angeles Times   \n",
       "1  http://www.livemint.com/Politics/H2EvwJSK2VE6O...           Livemint   \n",
       "\n",
       "  CATEGORY                          STORY          HOSTNAME      TIMESTAMP  \n",
       "0        b  ddUyU0VZz0BRneMioxUPQVP6sIxvM   www.latimes.com  1394470370698  \n",
       "1        b  ddUyU0VZz0BRneMioxUPQVP6sIxvM  www.livemint.com  1394470371207  "
      ]
     },
     "execution_count": 2,
     "metadata": {},
     "output_type": "execute_result"
    }
   ],
   "source": [
    "data = pd.read_csv(r'C:\\Users\\hafeez_poldz\\Desktop\\Thinkful\\Projects\\data\\uci-news-aggregator.csv')\n",
    "data.head(2)"
   ]
  },
  {
   "cell_type": "code",
   "execution_count": 3,
   "metadata": {},
   "outputs": [
    {
     "name": "stdout",
     "output_type": "stream",
     "text": [
      "<class 'pandas.core.frame.DataFrame'>\n",
      "RangeIndex: 422419 entries, 0 to 422418\n",
      "Data columns (total 8 columns):\n",
      "ID           422419 non-null int64\n",
      "TITLE        422419 non-null object\n",
      "URL          422419 non-null object\n",
      "PUBLISHER    422417 non-null object\n",
      "CATEGORY     422419 non-null object\n",
      "STORY        422419 non-null object\n",
      "HOSTNAME     422419 non-null object\n",
      "TIMESTAMP    422419 non-null int64\n",
      "dtypes: int64(2), object(6)\n",
      "memory usage: 25.8+ MB\n"
     ]
    }
   ],
   "source": [
    "# checking for missing values\n",
    "data.info()"
   ]
  },
  {
   "cell_type": "markdown",
   "metadata": {},
   "source": [
    "## 1.1 Publishers"
   ]
  },
  {
   "cell_type": "code",
   "execution_count": 4,
   "metadata": {},
   "outputs": [
    {
     "name": "stdout",
     "output_type": "stream",
     "text": [
      "There are 406455 of articles published by 10985 publishers. Below some of the most common publishers:\n",
      "   Reuters posted 3902 articles\n",
      "   Huffington Post posted 2455 articles\n",
      "   Businessweek posted 2395 articles\n",
      "   Contactmusic.com posted 2334 articles\n",
      "   Daily Mail posted 2254 articles\n",
      "   NASDAQ posted 2228 articles\n",
      "   Examiner.com posted 2085 articles\n",
      "   Los Angeles Times posted 1976 articles\n",
      "   GlobalPost posted 1975 articles\n",
      "   RTT News posted 1798 articles\n"
     ]
    }
   ],
   "source": [
    "# this function will highlight keywords to improve the readability\n",
    "def highlight(x):\n",
    "    \"\"\"Bold the string to help get the print reader's attention.\n",
    "    \n",
    "    Parameters\n",
    "    ----------\n",
    "    x : str\n",
    "        String to be decorated with bold.\n",
    "    \n",
    "    Returns\n",
    "    -------\n",
    "    str\n",
    "        The string in bold.\n",
    "    \"\"\"\n",
    "    yellow= '\\x1b[31;4m'\n",
    "    stop = '\\x1b[0m'\n",
    "    return yellow + str(x) + stop\n",
    "\n",
    "# number of unique publishers\n",
    "publishers = data['PUBLISHER'].nunique()\n",
    "articles = data['TITLE'].nunique()\n",
    "print(\"There are {} of articles published by {} publishers. Below some of the most common publishers:\".format(highlight(articles),\n",
    "                                                                                                             highlight(publishers)))\n",
    "for key, value in Counter(data['PUBLISHER']).most_common(10):\n",
    "    print(\"   {} posted {} articles\".format(highlight(key), highlight(value)))"
   ]
  },
  {
   "cell_type": "markdown",
   "metadata": {},
   "source": [
    "## 1.2 Articles per Category"
   ]
  },
  {
   "cell_type": "code",
   "execution_count": 5,
   "metadata": {},
   "outputs": [
    {
     "name": "stdout",
     "output_type": "stream",
     "text": [
      "CATEGORY\n",
      "e    146952\n",
      "b    111903\n",
      "t    104733\n",
      "m     43719\n",
      "Name: TITLE, dtype: int64\n"
     ]
    }
   ],
   "source": [
    "# number of articles per category\n",
    "print(data.groupby('CATEGORY')['TITLE'].nunique().sort_values(ascending = False))"
   ]
  },
  {
   "cell_type": "markdown",
   "metadata": {},
   "source": [
    "`Entertainment` is the most active category followed by `Business` and `Technology`. Only 10.7% of total articles are in `Health` category.\n",
    "\n",
    "# 2. Data Preprocessing\n",
    "To continue, I need to normalize `TITLE` column. I'll define a function to remove punctuations and lowercase all the words in title. "
   ]
  },
  {
   "cell_type": "code",
   "execution_count": 6,
   "metadata": {},
   "outputs": [],
   "source": [
    "def normalize(x):\n",
    "    \"\"\"This function will remove the puntuations in text and lowercase all the words.\n",
    "    Parameters\n",
    "    ----------\n",
    "    w: str\n",
    "    \n",
    "    Returns\n",
    "    -------\n",
    "    string without punctuations and uppercases\n",
    "    \n",
    "    \"\"\"\n",
    "    x = x.lower()\n",
    "    \n",
    "    # remove punctuation that is not word-internal (e.g., hyphens, apostrophes)\n",
    "    x = re.sub('\\s\\W',' ',x)\n",
    "    x = re.sub('\\W\\s',' ',x)\n",
    "    \n",
    "    # make sure we didn't introduce any double spaces\n",
    "    x = re.sub('\\s+',' ',x)\n",
    "    \n",
    "    return x\n",
    "    \n",
    "data['HEADLINE'] = [normalize(s) for s in data['TITLE']]\n",
    "\n",
    "data['CATEGORY'] = data['CATEGORY'].astype('category')\n",
    "data['CATEGORY'] = data['CATEGORY'].cat.rename_categories({'b': 'Business', 't': 'Technology', 'm':'Health', 'e':'Entertainment'})"
   ]
  },
  {
   "cell_type": "markdown",
   "metadata": {},
   "source": [
    "## 2.1 Limit Data to Scope\n",
    "To improve the running time, I'll pick only 10K articles per category in order not to exceed mmaximum 1000000 lenght."
   ]
  },
  {
   "cell_type": "code",
   "execution_count": 7,
   "metadata": {},
   "outputs": [
    {
     "data": {
      "text/html": [
       "<div>\n",
       "<style scoped>\n",
       "    .dataframe tbody tr th:only-of-type {\n",
       "        vertical-align: middle;\n",
       "    }\n",
       "\n",
       "    .dataframe tbody tr th {\n",
       "        vertical-align: top;\n",
       "    }\n",
       "\n",
       "    .dataframe thead th {\n",
       "        text-align: right;\n",
       "    }\n",
       "</style>\n",
       "<table border=\"1\" class=\"dataframe\">\n",
       "  <thead>\n",
       "    <tr style=\"text-align: right;\">\n",
       "      <th></th>\n",
       "      <th>HEADLINE</th>\n",
       "      <th>CATEGORY</th>\n",
       "    </tr>\n",
       "  </thead>\n",
       "  <tbody>\n",
       "    <tr>\n",
       "      <th>0</th>\n",
       "      <td>fed official says weak data caused by weather ...</td>\n",
       "      <td>Business</td>\n",
       "    </tr>\n",
       "    <tr>\n",
       "      <th>1</th>\n",
       "      <td>fed's charles plosser sees high bar for change...</td>\n",
       "      <td>Business</td>\n",
       "    </tr>\n",
       "  </tbody>\n",
       "</table>\n",
       "</div>"
      ],
      "text/plain": [
       "                                            HEADLINE  CATEGORY\n",
       "0  fed official says weak data caused by weather ...  Business\n",
       "1  fed's charles plosser sees high bar for change...  Business"
      ]
     },
     "execution_count": 7,
     "metadata": {},
     "output_type": "execute_result"
    }
   ],
   "source": [
    "news = data[['HEADLINE', 'CATEGORY']]\n",
    "news = news.groupby('CATEGORY').head(10000).reset_index(drop = True)\n",
    "news.head(2)\n"
   ]
  },
  {
   "cell_type": "markdown",
   "metadata": {},
   "source": [
    "# 3. Supervised Feature Generation\n",
    "Supervised NLP requires a pre-labelled dataset for training and testing, and is generally interested in categorizing text in various ways. In this case I'll create `Bag of Words` containing the most-common words of categories combined. \n",
    "\n",
    "## 3.1 BoW\n",
    "Here I'll extract the most-common 1000 words from each category corpus, store them in a list, and then eliminate duplicates."
   ]
  },
  {
   "cell_type": "code",
   "execution_count": 8,
   "metadata": {},
   "outputs": [
    {
     "name": "stdout",
     "output_type": "stream",
     "text": [
      "Total number of common words: 2663\n",
      "done in 54.666s\n"
     ]
    }
   ],
   "source": [
    "names = news['CATEGORY'].value_counts().index.tolist()\n",
    "\n",
    "\n",
    "t0 = time()\n",
    "\n",
    "# Load spacy NLP object\n",
    "nlp = spacy.load('en')\n",
    "\n",
    "# A list to store common words by all authors\n",
    "common_words = []\n",
    "\n",
    "# A dictionary to store the spacy_doc object of each author\n",
    "category_docs = {}\n",
    "\n",
    "for name in names:\n",
    "    # Corpus is all the text written by that author\n",
    "    corpus = \"\"\n",
    "    # Grab all rows of current category, along the 'HEADLINE' column\n",
    "    category_headline = news.loc[news.CATEGORY==name,'HEADLINE']\n",
    "    \n",
    "    # Merge all articles in to the author's corpus\n",
    "    for headline in category_headline:\n",
    "        corpus = corpus + headline\n",
    "    # Let Spacy parse the category's headline of text\n",
    "    doc = nlp(corpus)\n",
    "    \n",
    "    # Store the doc in the dictionary\n",
    "    category_docs[name] = doc\n",
    "        \n",
    "    # Filter out punctuation and stop words.\n",
    "    lemmas = [token.lemma_ for token in doc\n",
    "                if not token.is_punct and not token.is_stop]\n",
    "        \n",
    "    # Return the most common words of that author's corpus.\n",
    "    bow = [item[0] for item in Counter(lemmas).most_common(1000)]\n",
    "    \n",
    "    # Add them to the list of words by all authors.\n",
    "    for word in bow:\n",
    "        common_words.append(word)\n",
    "\n",
    "# Eliminate duplicates\n",
    "common_words = set(common_words)\n",
    "    \n",
    "print('Total number of common words:', len(common_words))\n",
    "print(\"done in %0.3fs\" % (time() - t0))"
   ]
  },
  {
   "cell_type": "markdown",
   "metadata": {},
   "source": [
    "* From total of 40K common-words (10000 words for each category), 2661 are unique. "
   ]
  },
  {
   "cell_type": "code",
   "execution_count": 9,
   "metadata": {},
   "outputs": [
    {
     "name": "stdout",
     "output_type": "stream",
     "text": [
      "Technology corpus contains 88802  words.\n",
      "Health corpus contains 82316  words.\n",
      "Entertainment corpus contains 94557  words.\n",
      "Business corpus contains 83480  words.\n"
     ]
    }
   ],
   "source": [
    "# Let's see our 4 categories in the dictionary\n",
    "lengths = []\n",
    "for k,v in category_docs.items():\n",
    "    print(highlight(k),'corpus contains',len(v),' words.')\n",
    "    lengths.append(len(v))"
   ]
  },
  {
   "cell_type": "markdown",
   "metadata": {},
   "source": [
    "## 3.2 Common Words to Features\n",
    "Doing this step with 40K headlines will take extremely long. To reduce the running time I'll take only 1000 headlines per category. \n",
    "\n",
    "I'll create a feature out of each common word and then count the number of times each common word appears in each headline. Each cell will represent the number of times the lemma of the given column appears in the headline of the current row. We have over 2500 common words, and will be using 4000 headlines total. Additionaly, each headline may have a varying number of words in it. That's a lot of text to compare and count.\n"
   ]
  },
  {
   "cell_type": "code",
   "execution_count": 10,
   "metadata": {},
   "outputs": [
    {
     "name": "stdout",
     "output_type": "stream",
     "text": [
      "Headline  0  done after  0.0  minutes.\n",
      "Headline  50  done after  0.01  minutes.\n",
      "Headline  100  done after  0.02  minutes.\n",
      "Headline  150  done after  0.03  minutes.\n",
      "Headline  200  done after  0.03  minutes.\n",
      "Headline  250  done after  0.04  minutes.\n",
      "Headline  300  done after  0.05  minutes.\n",
      "Headline  350  done after  0.06  minutes.\n",
      "Headline  400  done after  0.06  minutes.\n",
      "Headline  450  done after  0.07  minutes.\n",
      "Headline  500  done after  0.08  minutes.\n",
      "Headline  550  done after  0.09  minutes.\n",
      "Headline  600  done after  0.1  minutes.\n",
      "Headline  650  done after  0.1  minutes.\n",
      "Headline  700  done after  0.11  minutes.\n",
      "Headline  750  done after  0.12  minutes.\n",
      "Headline  800  done after  0.13  minutes.\n",
      "Headline  850  done after  0.14  minutes.\n",
      "Headline  900  done after  0.14  minutes.\n",
      "Headline  950  done after  0.15  minutes.\n",
      "Headline  1000  done after  0.16  minutes.\n",
      "Headline  1050  done after  0.17  minutes.\n",
      "Headline  1100  done after  0.17  minutes.\n",
      "Headline  1150  done after  0.18  minutes.\n",
      "Headline  1200  done after  0.19  minutes.\n",
      "Headline  1250  done after  0.2  minutes.\n",
      "Headline  1300  done after  0.21  minutes.\n",
      "Headline  1350  done after  0.21  minutes.\n",
      "Headline  1400  done after  0.22  minutes.\n",
      "Headline  1450  done after  0.23  minutes.\n",
      "Headline  1500  done after  0.24  minutes.\n",
      "Headline  1550  done after  0.25  minutes.\n",
      "Headline  1600  done after  0.26  minutes.\n",
      "Headline  1650  done after  0.26  minutes.\n",
      "Headline  1700  done after  0.27  minutes.\n",
      "Headline  1750  done after  0.28  minutes.\n",
      "Headline  1800  done after  0.29  minutes.\n",
      "Headline  1850  done after  0.29  minutes.\n",
      "Headline  1900  done after  0.3  minutes.\n",
      "Headline  1950  done after  0.31  minutes.\n",
      "Headline  2000  done after  0.32  minutes.\n",
      "Headline  2050  done after  0.32  minutes.\n",
      "Headline  2100  done after  0.33  minutes.\n",
      "Headline  2150  done after  0.34  minutes.\n",
      "Headline  2200  done after  0.35  minutes.\n",
      "Headline  2250  done after  0.36  minutes.\n",
      "Headline  2300  done after  0.36  minutes.\n",
      "Headline  2350  done after  0.37  minutes.\n",
      "Headline  2400  done after  0.38  minutes.\n",
      "Headline  2450  done after  0.39  minutes.\n",
      "Headline  2500  done after  0.4  minutes.\n",
      "Headline  2550  done after  0.42  minutes.\n",
      "Headline  2600  done after  0.43  minutes.\n",
      "Headline  2650  done after  0.43  minutes.\n",
      "Headline  2700  done after  0.44  minutes.\n",
      "Headline  2750  done after  0.45  minutes.\n",
      "Headline  2800  done after  0.46  minutes.\n",
      "Headline  2850  done after  0.46  minutes.\n",
      "Headline  2900  done after  0.47  minutes.\n",
      "Headline  2950  done after  0.48  minutes.\n",
      "Headline  3000  done after  0.49  minutes.\n",
      "Headline  3050  done after  0.5  minutes.\n",
      "Headline  3100  done after  0.51  minutes.\n",
      "Headline  3150  done after  0.51  minutes.\n",
      "Headline  3200  done after  0.52  minutes.\n",
      "Headline  3250  done after  0.53  minutes.\n",
      "Headline  3300  done after  0.54  minutes.\n",
      "Headline  3350  done after  0.54  minutes.\n",
      "Headline  3400  done after  0.55  minutes.\n",
      "Headline  3450  done after  0.56  minutes.\n",
      "Headline  3500  done after  0.57  minutes.\n",
      "Headline  3550  done after  0.57  minutes.\n",
      "Headline  3600  done after  0.58  minutes.\n",
      "Headline  3650  done after  0.59  minutes.\n",
      "Headline  3700  done after  0.6  minutes.\n",
      "Headline  3750  done after  0.61  minutes.\n",
      "Headline  3800  done after  0.61  minutes.\n",
      "Headline  3850  done after  0.62  minutes.\n",
      "Headline  3900  done after  0.63  minutes.\n",
      "Headline  3950  done after  0.64  minutes.\n"
     ]
    }
   ],
   "source": [
    "bow_counts = pd.DataFrame()\n",
    "for name in names:\n",
    "    # Select 1000 headlines of each category\n",
    "    headlines = news.loc[news.CATEGORY==name,:][:1000]\n",
    "    bow_counts = bow_counts.append(headlines)\n",
    "bow_counts = bow_counts.reset_index().drop('index',1)\n",
    "\n",
    "# Use common_words as the columns of a temporary DataFrame\n",
    "df = pd.DataFrame(columns=common_words)\n",
    "\n",
    "# Join BOW features with the category's headline\n",
    "bow_counts = bow_counts.join(df)\n",
    "\n",
    "# Initialize rows with zeroes\n",
    "bow_counts.loc[:,common_words] = 0\n",
    "\n",
    "# Fill the DataFrame with counts of each feature in each headline\n",
    "t0 = time()\n",
    "for i, headline in enumerate(bow_counts.HEADLINE):\n",
    "    doc = nlp(headline)\n",
    "    for token in doc:\n",
    "        if token.lemma_.lower() in common_words:\n",
    "            bow_counts.loc[i,token.lemma_.lower()] += 1\n",
    "    # Print a message every X headlines\n",
    "    if i % 50 == 0:\n",
    "        if time()-t0 < 3600: # if less than an hour in minutes\n",
    "            print(\"Headline \",i,\" done after \",round((time()-t0)/60, 2),' minutes.')\n",
    "        else:\n",
    "            print(\"Headline \",i,\" done after \",round((time()-t0)/60/60, 2), ' hours.')"
   ]
  },
  {
   "cell_type": "code",
   "execution_count": 11,
   "metadata": {},
   "outputs": [
    {
     "data": {
      "text/html": [
       "<div>\n",
       "<style scoped>\n",
       "    .dataframe tbody tr th:only-of-type {\n",
       "        vertical-align: middle;\n",
       "    }\n",
       "\n",
       "    .dataframe tbody tr th {\n",
       "        vertical-align: top;\n",
       "    }\n",
       "\n",
       "    .dataframe thead th {\n",
       "        text-align: right;\n",
       "    }\n",
       "</style>\n",
       "<table border=\"1\" class=\"dataframe\">\n",
       "  <thead>\n",
       "    <tr style=\"text-align: right;\">\n",
       "      <th></th>\n",
       "      <th>room</th>\n",
       "      <th>apple</th>\n",
       "      <th>open</th>\n",
       "      <th>m8</th>\n",
       "      <th>hasting</th>\n",
       "      <th>certify</th>\n",
       "      <th>french</th>\n",
       "      <th>arrest</th>\n",
       "      <th>delmarvas</th>\n",
       "      <th>bundle</th>\n",
       "      <th>...</th>\n",
       "      <th>teaser</th>\n",
       "      <th>orlando</th>\n",
       "      <th>brittany</th>\n",
       "      <th>musician</th>\n",
       "      <th>light</th>\n",
       "      <th>university</th>\n",
       "      <th>area</th>\n",
       "      <th>intake</th>\n",
       "      <th>cosmo</th>\n",
       "      <th>enjoy</th>\n",
       "    </tr>\n",
       "  </thead>\n",
       "  <tbody>\n",
       "    <tr>\n",
       "      <th>count</th>\n",
       "      <td>4000.000000</td>\n",
       "      <td>4000.000000</td>\n",
       "      <td>4000.000000</td>\n",
       "      <td>4000.0</td>\n",
       "      <td>4000.0</td>\n",
       "      <td>4000.0</td>\n",
       "      <td>4000.0</td>\n",
       "      <td>4000.000000</td>\n",
       "      <td>4000.0</td>\n",
       "      <td>4000.000000</td>\n",
       "      <td>...</td>\n",
       "      <td>4000.000000</td>\n",
       "      <td>4000.000000</td>\n",
       "      <td>4000.0</td>\n",
       "      <td>4000.000000</td>\n",
       "      <td>4000.000000</td>\n",
       "      <td>4000.000000</td>\n",
       "      <td>4000.000000</td>\n",
       "      <td>4000.0</td>\n",
       "      <td>4000.000000</td>\n",
       "      <td>4000.000000</td>\n",
       "    </tr>\n",
       "    <tr>\n",
       "      <th>mean</th>\n",
       "      <td>0.006750</td>\n",
       "      <td>0.033250</td>\n",
       "      <td>0.008750</td>\n",
       "      <td>0.0</td>\n",
       "      <td>0.0</td>\n",
       "      <td>0.0</td>\n",
       "      <td>0.0</td>\n",
       "      <td>0.004750</td>\n",
       "      <td>0.0</td>\n",
       "      <td>0.000750</td>\n",
       "      <td>...</td>\n",
       "      <td>0.000500</td>\n",
       "      <td>0.001500</td>\n",
       "      <td>0.0</td>\n",
       "      <td>0.000250</td>\n",
       "      <td>0.001750</td>\n",
       "      <td>0.000250</td>\n",
       "      <td>0.001750</td>\n",
       "      <td>0.0</td>\n",
       "      <td>0.010000</td>\n",
       "      <td>0.000250</td>\n",
       "    </tr>\n",
       "    <tr>\n",
       "      <th>std</th>\n",
       "      <td>0.081891</td>\n",
       "      <td>0.184805</td>\n",
       "      <td>0.093143</td>\n",
       "      <td>0.0</td>\n",
       "      <td>0.0</td>\n",
       "      <td>0.0</td>\n",
       "      <td>0.0</td>\n",
       "      <td>0.068765</td>\n",
       "      <td>0.0</td>\n",
       "      <td>0.027379</td>\n",
       "      <td>...</td>\n",
       "      <td>0.022358</td>\n",
       "      <td>0.038706</td>\n",
       "      <td>0.0</td>\n",
       "      <td>0.015811</td>\n",
       "      <td>0.041802</td>\n",
       "      <td>0.015811</td>\n",
       "      <td>0.041802</td>\n",
       "      <td>0.0</td>\n",
       "      <td>0.099511</td>\n",
       "      <td>0.015811</td>\n",
       "    </tr>\n",
       "    <tr>\n",
       "      <th>min</th>\n",
       "      <td>0.000000</td>\n",
       "      <td>0.000000</td>\n",
       "      <td>0.000000</td>\n",
       "      <td>0.0</td>\n",
       "      <td>0.0</td>\n",
       "      <td>0.0</td>\n",
       "      <td>0.0</td>\n",
       "      <td>0.000000</td>\n",
       "      <td>0.0</td>\n",
       "      <td>0.000000</td>\n",
       "      <td>...</td>\n",
       "      <td>0.000000</td>\n",
       "      <td>0.000000</td>\n",
       "      <td>0.0</td>\n",
       "      <td>0.000000</td>\n",
       "      <td>0.000000</td>\n",
       "      <td>0.000000</td>\n",
       "      <td>0.000000</td>\n",
       "      <td>0.0</td>\n",
       "      <td>0.000000</td>\n",
       "      <td>0.000000</td>\n",
       "    </tr>\n",
       "    <tr>\n",
       "      <th>25%</th>\n",
       "      <td>0.000000</td>\n",
       "      <td>0.000000</td>\n",
       "      <td>0.000000</td>\n",
       "      <td>0.0</td>\n",
       "      <td>0.0</td>\n",
       "      <td>0.0</td>\n",
       "      <td>0.0</td>\n",
       "      <td>0.000000</td>\n",
       "      <td>0.0</td>\n",
       "      <td>0.000000</td>\n",
       "      <td>...</td>\n",
       "      <td>0.000000</td>\n",
       "      <td>0.000000</td>\n",
       "      <td>0.0</td>\n",
       "      <td>0.000000</td>\n",
       "      <td>0.000000</td>\n",
       "      <td>0.000000</td>\n",
       "      <td>0.000000</td>\n",
       "      <td>0.0</td>\n",
       "      <td>0.000000</td>\n",
       "      <td>0.000000</td>\n",
       "    </tr>\n",
       "    <tr>\n",
       "      <th>50%</th>\n",
       "      <td>0.000000</td>\n",
       "      <td>0.000000</td>\n",
       "      <td>0.000000</td>\n",
       "      <td>0.0</td>\n",
       "      <td>0.0</td>\n",
       "      <td>0.0</td>\n",
       "      <td>0.0</td>\n",
       "      <td>0.000000</td>\n",
       "      <td>0.0</td>\n",
       "      <td>0.000000</td>\n",
       "      <td>...</td>\n",
       "      <td>0.000000</td>\n",
       "      <td>0.000000</td>\n",
       "      <td>0.0</td>\n",
       "      <td>0.000000</td>\n",
       "      <td>0.000000</td>\n",
       "      <td>0.000000</td>\n",
       "      <td>0.000000</td>\n",
       "      <td>0.0</td>\n",
       "      <td>0.000000</td>\n",
       "      <td>0.000000</td>\n",
       "    </tr>\n",
       "    <tr>\n",
       "      <th>75%</th>\n",
       "      <td>0.000000</td>\n",
       "      <td>0.000000</td>\n",
       "      <td>0.000000</td>\n",
       "      <td>0.0</td>\n",
       "      <td>0.0</td>\n",
       "      <td>0.0</td>\n",
       "      <td>0.0</td>\n",
       "      <td>0.000000</td>\n",
       "      <td>0.0</td>\n",
       "      <td>0.000000</td>\n",
       "      <td>...</td>\n",
       "      <td>0.000000</td>\n",
       "      <td>0.000000</td>\n",
       "      <td>0.0</td>\n",
       "      <td>0.000000</td>\n",
       "      <td>0.000000</td>\n",
       "      <td>0.000000</td>\n",
       "      <td>0.000000</td>\n",
       "      <td>0.0</td>\n",
       "      <td>0.000000</td>\n",
       "      <td>0.000000</td>\n",
       "    </tr>\n",
       "    <tr>\n",
       "      <th>max</th>\n",
       "      <td>1.000000</td>\n",
       "      <td>2.000000</td>\n",
       "      <td>1.000000</td>\n",
       "      <td>0.0</td>\n",
       "      <td>0.0</td>\n",
       "      <td>0.0</td>\n",
       "      <td>0.0</td>\n",
       "      <td>1.000000</td>\n",
       "      <td>0.0</td>\n",
       "      <td>1.000000</td>\n",
       "      <td>...</td>\n",
       "      <td>1.000000</td>\n",
       "      <td>1.000000</td>\n",
       "      <td>0.0</td>\n",
       "      <td>1.000000</td>\n",
       "      <td>1.000000</td>\n",
       "      <td>1.000000</td>\n",
       "      <td>1.000000</td>\n",
       "      <td>0.0</td>\n",
       "      <td>1.000000</td>\n",
       "      <td>1.000000</td>\n",
       "    </tr>\n",
       "  </tbody>\n",
       "</table>\n",
       "<p>8 rows × 2663 columns</p>\n",
       "</div>"
      ],
      "text/plain": [
       "              room        apple         open      m8  hasting  certify  \\\n",
       "count  4000.000000  4000.000000  4000.000000  4000.0   4000.0   4000.0   \n",
       "mean      0.006750     0.033250     0.008750     0.0      0.0      0.0   \n",
       "std       0.081891     0.184805     0.093143     0.0      0.0      0.0   \n",
       "min       0.000000     0.000000     0.000000     0.0      0.0      0.0   \n",
       "25%       0.000000     0.000000     0.000000     0.0      0.0      0.0   \n",
       "50%       0.000000     0.000000     0.000000     0.0      0.0      0.0   \n",
       "75%       0.000000     0.000000     0.000000     0.0      0.0      0.0   \n",
       "max       1.000000     2.000000     1.000000     0.0      0.0      0.0   \n",
       "\n",
       "       french       arrest  delmarvas       bundle  ...       teaser  \\\n",
       "count  4000.0  4000.000000     4000.0  4000.000000  ...  4000.000000   \n",
       "mean      0.0     0.004750        0.0     0.000750  ...     0.000500   \n",
       "std       0.0     0.068765        0.0     0.027379  ...     0.022358   \n",
       "min       0.0     0.000000        0.0     0.000000  ...     0.000000   \n",
       "25%       0.0     0.000000        0.0     0.000000  ...     0.000000   \n",
       "50%       0.0     0.000000        0.0     0.000000  ...     0.000000   \n",
       "75%       0.0     0.000000        0.0     0.000000  ...     0.000000   \n",
       "max       0.0     1.000000        0.0     1.000000  ...     1.000000   \n",
       "\n",
       "           orlando  brittany     musician        light   university  \\\n",
       "count  4000.000000    4000.0  4000.000000  4000.000000  4000.000000   \n",
       "mean      0.001500       0.0     0.000250     0.001750     0.000250   \n",
       "std       0.038706       0.0     0.015811     0.041802     0.015811   \n",
       "min       0.000000       0.0     0.000000     0.000000     0.000000   \n",
       "25%       0.000000       0.0     0.000000     0.000000     0.000000   \n",
       "50%       0.000000       0.0     0.000000     0.000000     0.000000   \n",
       "75%       0.000000       0.0     0.000000     0.000000     0.000000   \n",
       "max       1.000000       0.0     1.000000     1.000000     1.000000   \n",
       "\n",
       "              area  intake        cosmo        enjoy  \n",
       "count  4000.000000  4000.0  4000.000000  4000.000000  \n",
       "mean      0.001750     0.0     0.010000     0.000250  \n",
       "std       0.041802     0.0     0.099511     0.015811  \n",
       "min       0.000000     0.0     0.000000     0.000000  \n",
       "25%       0.000000     0.0     0.000000     0.000000  \n",
       "50%       0.000000     0.0     0.000000     0.000000  \n",
       "75%       0.000000     0.0     0.000000     0.000000  \n",
       "max       1.000000     0.0     1.000000     1.000000  \n",
       "\n",
       "[8 rows x 2663 columns]"
      ]
     },
     "execution_count": 11,
     "metadata": {},
     "output_type": "execute_result"
    }
   ],
   "source": [
    "bow_counts.describe()"
   ]
  },
  {
   "cell_type": "markdown",
   "metadata": {},
   "source": [
    "## 3.3 Classification on Bow\n",
    "\n",
    "Before starting, I'll define a function which will find the optimal parameters for each classification algorithm using `GridSearchCV` and then fit the model. I'll create a `report` DataFrame to hold the results in order to facilitate readability and fast comparison."
   ]
  },
  {
   "cell_type": "code",
   "execution_count": 12,
   "metadata": {},
   "outputs": [],
   "source": [
    "# create a report data\n",
    "columns =['Model','n_train','Features',\n",
    "          'Cross_Val_Mean', 'Cross_Val_Std','Train_Accuracy',\n",
    "           'Test_Accuracy']\n",
    "report  = pd.DataFrame(columns = columns)"
   ]
  },
  {
   "cell_type": "code",
   "execution_count": 13,
   "metadata": {},
   "outputs": [
    {
     "name": "stdout",
     "output_type": "stream",
     "text": [
      "(3040, 2663)\n"
     ]
    }
   ],
   "source": [
    "# initialize train and test sets\n",
    "# Establish outcome and predictors\n",
    "y = bow_counts['CATEGORY']\n",
    "X = bow_counts.drop(['CATEGORY', 'HEADLINE'], 1)\n",
    "\n",
    "X_train, X_test, y_train, y_test = train_test_split(X, y,\n",
    "                                                    test_size=0.24,\n",
    "                                                    random_state=0,\n",
    "                                                    stratify=y)\n",
    "print(X_train.shape)"
   ]
  },
  {
   "cell_type": "code",
   "execution_count": 14,
   "metadata": {},
   "outputs": [],
   "source": [
    "# define a function \n",
    "def run_model(model, params,X_train, y_train, X_test, y_test, features, i):\n",
    "    \"\"\"This function returns best parameters to fit the model and model's accuracy stats\n",
    "    \n",
    "    Parameters\n",
    "    ----------\n",
    "    model: classifier\n",
    "    params: parameters\n",
    "        dictionary\n",
    "    X_train: the training data set\n",
    "    y_train: the set of labels to all the data in X_train\n",
    "    X_test: the test data set\n",
    "    Y_test: the set of labels to all the data in X_test\n",
    "    \n",
    "    Returns\n",
    "    -------\n",
    "    str:\n",
    "        model name\n",
    "    float:\n",
    "        Train set accuracy score\n",
    "    float: \n",
    "        Test set accuracy score\n",
    "    float:\n",
    "        5 folds cross-validation accuracy score\n",
    "    float:\n",
    "        normalized mutual info score   \n",
    "    \n",
    "    \"\"\"\n",
    "    t0 = time()\n",
    "    # Heading\n",
    "    print('\\n','-'*40,'\\n',model.__class__.__name__,'\\n','-'*40)\n",
    "    \n",
    "    # Find best parameters based on scoring of choice\n",
    "    score = make_scorer(normalized_mutual_info_score)\n",
    "    search = GridSearchCV(model, params,\n",
    "                          scoring=score, cv=5).fit(X_train, y_train)\n",
    "    # Extract best estimator\n",
    "    best = search.best_estimator_\n",
    "    print(\"Best parameters:\", search.best_params_)\n",
    "\n",
    "    # Cross-validate on train set\n",
    "    cvs = cross_val_score(best, X_train, y_train, cv=5)\n",
    "    print(\"Cross-validation stats: mean: {}, std: {}\".format(round(cvs.mean(), 2), round(cvs.std(), 2)))\n",
    "    report.loc[i,'Cross_Val_Mean'] = cvs.mean() \n",
    "    report.loc[i,'Cross_Val_Std'] = cvs.std() \n",
    "   \n",
    "    # Get train accuracy\n",
    "    best = best.fit(X_train,y_train)\n",
    "    train = best.score(X_train, y_train)\n",
    "    report.loc[i,'Train_Accuracy'] = train \n",
    "    print(\"\\nTrain Accuracy Score:\", train)\n",
    "\n",
    "    # Get test accuracy\n",
    "    test = best.score(X_test, y_test)\n",
    "    report.loc[i,'Test_Accuracy'] = test \n",
    "    print(\"\\nTest Accuracy Score:\", test)\n",
    "    \n",
    "    y_pred = best.predict(X_test)\n",
    "\n",
    "    #print(classification_report(y_test, y_pred))\n",
    "\n",
    "    conf_matrix = pd.crosstab(y_test,y_pred)\n",
    "    sns.heatmap(conf_matrix, annot=True, fmt='d', cmap=plt.cm.copper)\n",
    "    plt.show()\n",
    "    \n",
    "    report.loc[i,'n_train'] = len(X_train)\n",
    "    report.loc[i,'Features'] = features\n",
    "    report.loc[i,'Model'] = model.__class__.__name__\n",
    "    print(time()-t0,'seconds.')"
   ]
  },
  {
   "cell_type": "markdown",
   "metadata": {},
   "source": [
    "### 3.3.1 Logistic Regression on BoW"
   ]
  },
  {
   "cell_type": "code",
   "execution_count": 15,
   "metadata": {},
   "outputs": [
    {
     "name": "stdout",
     "output_type": "stream",
     "text": [
      "\n",
      " ---------------------------------------- \n",
      " LogisticRegression \n",
      " ----------------------------------------\n",
      "Best parameters: {'C': 0.7, 'penalty': 'l2', 'solver': 'liblinear'}\n",
      "Cross-validation stats: mean: 0.96, std: 0.01\n",
      "\n",
      "Train Accuracy Score: 0.9848684210526316\n",
      "\n",
      "Test Accuracy Score: 0.9583333333333334\n"
     ]
    },
    {
     "data": {
      "image/png": "[encoded data removed]",
      "text/plain": [
       "<Figure size 432x288 with 2 Axes>"
      ]
     },
     "metadata": {
      "needs_background": "light"
     },
     "output_type": "display_data"
    },
    {
     "name": "stdout",
     "output_type": "stream",
     "text": [
      "760.1221780776978 seconds.\n"
     ]
    }
   ],
   "source": [
    "params = [{\n",
    "    'solver': ['newton-cg', 'lbfgs', 'sag'],\n",
    "    'C': [0.3, 0.5, 0.7, 1],\n",
    "    'penalty': ['l2']\n",
    "    },{\n",
    "    'solver': ['liblinear','saga'],\n",
    "    'C': [0.3, 0.5, 0.7, 1],\n",
    "    'penalty': ['l1','l2']\n",
    "}]\n",
    "\n",
    "lr = LogisticRegression(\n",
    "    n_jobs=-1 # Use all CPU\n",
    ")\n",
    "\n",
    "run_model(lr, params, X_train, y_train, X_test, y_test, features='BOW',i=1)"
   ]
  },
  {
   "cell_type": "markdown",
   "metadata": {},
   "source": [
    "### 3.3.2 RandomForestClassifier on BoW"
   ]
  },
  {
   "cell_type": "code",
   "execution_count": 16,
   "metadata": {},
   "outputs": [
    {
     "name": "stdout",
     "output_type": "stream",
     "text": [
      "\n",
      " ---------------------------------------- \n",
      " RandomForestClassifier \n",
      " ----------------------------------------\n",
      "Best parameters: {'criterion': 'entropy'}\n",
      "Cross-validation stats: mean: 0.93, std: 0.01\n",
      "\n",
      "Train Accuracy Score: 0.9963815789473685\n",
      "\n",
      "Test Accuracy Score: 0.9385416666666667\n"
     ]
    },
    {
     "data": {
      "image/png": "[encoded data removed]",
      "text/plain": [
       "<Figure size 432x288 with 2 Axes>"
      ]
     },
     "metadata": {
      "needs_background": "light"
     },
     "output_type": "display_data"
    },
    {
     "name": "stdout",
     "output_type": "stream",
     "text": [
      "115.88910698890686 seconds.\n"
     ]
    }
   ],
   "source": [
    "params = {\n",
    "    'criterion':['entropy','gini'],\n",
    "}\n",
    "\n",
    "# initialize the classifier\n",
    "rfc = RandomForestClassifier(\n",
    "    n_estimators=100,\n",
    "    max_features=None,\n",
    "    n_jobs=-1,\n",
    ")\n",
    "\n",
    "run_model(rfc, params, X_train, y_train, X_test, y_test, features='BOW',i=2)"
   ]
  },
  {
   "cell_type": "markdown",
   "metadata": {},
   "source": [
    "### 3.3.4 XGBoost on BoW"
   ]
  },
  {
   "cell_type": "code",
   "execution_count": 17,
   "metadata": {},
   "outputs": [
    {
     "name": "stdout",
     "output_type": "stream",
     "text": [
      "\n",
      " ---------------------------------------- \n",
      " XGBClassifier \n",
      " ----------------------------------------\n"
     ]
    },
    {
     "name": "stderr",
     "output_type": "stream",
     "text": [
      "C:\\Users\\hafeez_poldz\\Anaconda3\\lib\\site-packages\\sklearn\\preprocessing\\label.py:151: DeprecationWarning: The truth value of an empty array is ambiguous. Returning False, but in future this will result in an error. Use `array.size > 0` to check that an array is not empty.\n",
      "  if diff:\n",
      "C:\\Users\\hafeez_poldz\\Anaconda3\\lib\\site-packages\\sklearn\\preprocessing\\label.py:151: DeprecationWarning: The truth value of an empty array is ambiguous. Returning False, but in future this will result in an error. Use `array.size > 0` to check that an array is not empty.\n",
      "  if diff:\n",
      "C:\\Users\\hafeez_poldz\\Anaconda3\\lib\\site-packages\\sklearn\\preprocessing\\label.py:151: DeprecationWarning: The truth value of an empty array is ambiguous. Returning False, but in future this will result in an error. Use `array.size > 0` to check that an array is not empty.\n",
      "  if diff:\n",
      "C:\\Users\\hafeez_poldz\\Anaconda3\\lib\\site-packages\\sklearn\\preprocessing\\label.py:151: DeprecationWarning: The truth value of an empty array is ambiguous. Returning False, but in future this will result in an error. Use `array.size > 0` to check that an array is not empty.\n",
      "  if diff:\n",
      "C:\\Users\\hafeez_poldz\\Anaconda3\\lib\\site-packages\\sklearn\\preprocessing\\label.py:151: DeprecationWarning: The truth value of an empty array is ambiguous. Returning False, but in future this will result in an error. Use `array.size > 0` to check that an array is not empty.\n",
      "  if diff:\n",
      "C:\\Users\\hafeez_poldz\\Anaconda3\\lib\\site-packages\\sklearn\\preprocessing\\label.py:151: DeprecationWarning: The truth value of an empty array is ambiguous. Returning False, but in future this will result in an error. Use `array.size > 0` to check that an array is not empty.\n",
      "  if diff:\n",
      "C:\\Users\\hafeez_poldz\\Anaconda3\\lib\\site-packages\\sklearn\\preprocessing\\label.py:151: DeprecationWarning: The truth value of an empty array is ambiguous. Returning False, but in future this will result in an error. Use `array.size > 0` to check that an array is not empty.\n",
      "  if diff:\n",
      "C:\\Users\\hafeez_poldz\\Anaconda3\\lib\\site-packages\\sklearn\\preprocessing\\label.py:151: DeprecationWarning: The truth value of an empty array is ambiguous. Returning False, but in future this will result in an error. Use `array.size > 0` to check that an array is not empty.\n",
      "  if diff:\n",
      "C:\\Users\\hafeez_poldz\\Anaconda3\\lib\\site-packages\\sklearn\\preprocessing\\label.py:151: DeprecationWarning: The truth value of an empty array is ambiguous. Returning False, but in future this will result in an error. Use `array.size > 0` to check that an array is not empty.\n",
      "  if diff:\n",
      "C:\\Users\\hafeez_poldz\\Anaconda3\\lib\\site-packages\\sklearn\\preprocessing\\label.py:151: DeprecationWarning: The truth value of an empty array is ambiguous. Returning False, but in future this will result in an error. Use `array.size > 0` to check that an array is not empty.\n",
      "  if diff:\n",
      "C:\\Users\\hafeez_poldz\\Anaconda3\\lib\\site-packages\\sklearn\\preprocessing\\label.py:151: DeprecationWarning: The truth value of an empty array is ambiguous. Returning False, but in future this will result in an error. Use `array.size > 0` to check that an array is not empty.\n",
      "  if diff:\n",
      "C:\\Users\\hafeez_poldz\\Anaconda3\\lib\\site-packages\\sklearn\\preprocessing\\label.py:151: DeprecationWarning: The truth value of an empty array is ambiguous. Returning False, but in future this will result in an error. Use `array.size > 0` to check that an array is not empty.\n",
      "  if diff:\n",
      "C:\\Users\\hafeez_poldz\\Anaconda3\\lib\\site-packages\\sklearn\\preprocessing\\label.py:151: DeprecationWarning: The truth value of an empty array is ambiguous. Returning False, but in future this will result in an error. Use `array.size > 0` to check that an array is not empty.\n",
      "  if diff:\n",
      "C:\\Users\\hafeez_poldz\\Anaconda3\\lib\\site-packages\\sklearn\\preprocessing\\label.py:151: DeprecationWarning: The truth value of an empty array is ambiguous. Returning False, but in future this will result in an error. Use `array.size > 0` to check that an array is not empty.\n",
      "  if diff:\n",
      "C:\\Users\\hafeez_poldz\\Anaconda3\\lib\\site-packages\\sklearn\\preprocessing\\label.py:151: DeprecationWarning: The truth value of an empty array is ambiguous. Returning False, but in future this will result in an error. Use `array.size > 0` to check that an array is not empty.\n",
      "  if diff:\n",
      "C:\\Users\\hafeez_poldz\\Anaconda3\\lib\\site-packages\\sklearn\\preprocessing\\label.py:151: DeprecationWarning: The truth value of an empty array is ambiguous. Returning False, but in future this will result in an error. Use `array.size > 0` to check that an array is not empty.\n",
      "  if diff:\n",
      "C:\\Users\\hafeez_poldz\\Anaconda3\\lib\\site-packages\\sklearn\\preprocessing\\label.py:151: DeprecationWarning: The truth value of an empty array is ambiguous. Returning False, but in future this will result in an error. Use `array.size > 0` to check that an array is not empty.\n",
      "  if diff:\n",
      "C:\\Users\\hafeez_poldz\\Anaconda3\\lib\\site-packages\\sklearn\\preprocessing\\label.py:151: DeprecationWarning: The truth value of an empty array is ambiguous. Returning False, but in future this will result in an error. Use `array.size > 0` to check that an array is not empty.\n",
      "  if diff:\n",
      "C:\\Users\\hafeez_poldz\\Anaconda3\\lib\\site-packages\\sklearn\\preprocessing\\label.py:151: DeprecationWarning: The truth value of an empty array is ambiguous. Returning False, but in future this will result in an error. Use `array.size > 0` to check that an array is not empty.\n",
      "  if diff:\n",
      "C:\\Users\\hafeez_poldz\\Anaconda3\\lib\\site-packages\\sklearn\\preprocessing\\label.py:151: DeprecationWarning: The truth value of an empty array is ambiguous. Returning False, but in future this will result in an error. Use `array.size > 0` to check that an array is not empty.\n",
      "  if diff:\n",
      "C:\\Users\\hafeez_poldz\\Anaconda3\\lib\\site-packages\\sklearn\\preprocessing\\label.py:151: DeprecationWarning: The truth value of an empty array is ambiguous. Returning False, but in future this will result in an error. Use `array.size > 0` to check that an array is not empty.\n",
      "  if diff:\n",
      "C:\\Users\\hafeez_poldz\\Anaconda3\\lib\\site-packages\\sklearn\\preprocessing\\label.py:151: DeprecationWarning: The truth value of an empty array is ambiguous. Returning False, but in future this will result in an error. Use `array.size > 0` to check that an array is not empty.\n",
      "  if diff:\n",
      "C:\\Users\\hafeez_poldz\\Anaconda3\\lib\\site-packages\\sklearn\\preprocessing\\label.py:151: DeprecationWarning: The truth value of an empty array is ambiguous. Returning False, but in future this will result in an error. Use `array.size > 0` to check that an array is not empty.\n",
      "  if diff:\n",
      "C:\\Users\\hafeez_poldz\\Anaconda3\\lib\\site-packages\\sklearn\\preprocessing\\label.py:151: DeprecationWarning: The truth value of an empty array is ambiguous. Returning False, but in future this will result in an error. Use `array.size > 0` to check that an array is not empty.\n",
      "  if diff:\n",
      "C:\\Users\\hafeez_poldz\\Anaconda3\\lib\\site-packages\\sklearn\\preprocessing\\label.py:151: DeprecationWarning: The truth value of an empty array is ambiguous. Returning False, but in future this will result in an error. Use `array.size > 0` to check that an array is not empty.\n",
      "  if diff:\n",
      "C:\\Users\\hafeez_poldz\\Anaconda3\\lib\\site-packages\\sklearn\\preprocessing\\label.py:151: DeprecationWarning: The truth value of an empty array is ambiguous. Returning False, but in future this will result in an error. Use `array.size > 0` to check that an array is not empty.\n",
      "  if diff:\n",
      "C:\\Users\\hafeez_poldz\\Anaconda3\\lib\\site-packages\\sklearn\\preprocessing\\label.py:151: DeprecationWarning: The truth value of an empty array is ambiguous. Returning False, but in future this will result in an error. Use `array.size > 0` to check that an array is not empty.\n",
      "  if diff:\n",
      "C:\\Users\\hafeez_poldz\\Anaconda3\\lib\\site-packages\\sklearn\\preprocessing\\label.py:151: DeprecationWarning: The truth value of an empty array is ambiguous. Returning False, but in future this will result in an error. Use `array.size > 0` to check that an array is not empty.\n",
      "  if diff:\n",
      "C:\\Users\\hafeez_poldz\\Anaconda3\\lib\\site-packages\\sklearn\\preprocessing\\label.py:151: DeprecationWarning: The truth value of an empty array is ambiguous. Returning False, but in future this will result in an error. Use `array.size > 0` to check that an array is not empty.\n",
      "  if diff:\n"
     ]
    },
    {
     "name": "stderr",
     "output_type": "stream",
     "text": [
      "C:\\Users\\hafeez_poldz\\Anaconda3\\lib\\site-packages\\sklearn\\preprocessing\\label.py:151: DeprecationWarning: The truth value of an empty array is ambiguous. Returning False, but in future this will result in an error. Use `array.size > 0` to check that an array is not empty.\n",
      "  if diff:\n",
      "C:\\Users\\hafeez_poldz\\Anaconda3\\lib\\site-packages\\sklearn\\preprocessing\\label.py:151: DeprecationWarning: The truth value of an empty array is ambiguous. Returning False, but in future this will result in an error. Use `array.size > 0` to check that an array is not empty.\n",
      "  if diff:\n",
      "C:\\Users\\hafeez_poldz\\Anaconda3\\lib\\site-packages\\sklearn\\preprocessing\\label.py:151: DeprecationWarning: The truth value of an empty array is ambiguous. Returning False, but in future this will result in an error. Use `array.size > 0` to check that an array is not empty.\n",
      "  if diff:\n",
      "C:\\Users\\hafeez_poldz\\Anaconda3\\lib\\site-packages\\sklearn\\preprocessing\\label.py:151: DeprecationWarning: The truth value of an empty array is ambiguous. Returning False, but in future this will result in an error. Use `array.size > 0` to check that an array is not empty.\n",
      "  if diff:\n",
      "C:\\Users\\hafeez_poldz\\Anaconda3\\lib\\site-packages\\sklearn\\preprocessing\\label.py:151: DeprecationWarning: The truth value of an empty array is ambiguous. Returning False, but in future this will result in an error. Use `array.size > 0` to check that an array is not empty.\n",
      "  if diff:\n",
      "C:\\Users\\hafeez_poldz\\Anaconda3\\lib\\site-packages\\sklearn\\preprocessing\\label.py:151: DeprecationWarning: The truth value of an empty array is ambiguous. Returning False, but in future this will result in an error. Use `array.size > 0` to check that an array is not empty.\n",
      "  if diff:\n",
      "C:\\Users\\hafeez_poldz\\Anaconda3\\lib\\site-packages\\sklearn\\preprocessing\\label.py:151: DeprecationWarning: The truth value of an empty array is ambiguous. Returning False, but in future this will result in an error. Use `array.size > 0` to check that an array is not empty.\n",
      "  if diff:\n",
      "C:\\Users\\hafeez_poldz\\Anaconda3\\lib\\site-packages\\sklearn\\preprocessing\\label.py:151: DeprecationWarning: The truth value of an empty array is ambiguous. Returning False, but in future this will result in an error. Use `array.size > 0` to check that an array is not empty.\n",
      "  if diff:\n",
      "C:\\Users\\hafeez_poldz\\Anaconda3\\lib\\site-packages\\sklearn\\preprocessing\\label.py:151: DeprecationWarning: The truth value of an empty array is ambiguous. Returning False, but in future this will result in an error. Use `array.size > 0` to check that an array is not empty.\n",
      "  if diff:\n",
      "C:\\Users\\hafeez_poldz\\Anaconda3\\lib\\site-packages\\sklearn\\preprocessing\\label.py:151: DeprecationWarning: The truth value of an empty array is ambiguous. Returning False, but in future this will result in an error. Use `array.size > 0` to check that an array is not empty.\n",
      "  if diff:\n",
      "C:\\Users\\hafeez_poldz\\Anaconda3\\lib\\site-packages\\sklearn\\preprocessing\\label.py:151: DeprecationWarning: The truth value of an empty array is ambiguous. Returning False, but in future this will result in an error. Use `array.size > 0` to check that an array is not empty.\n",
      "  if diff:\n",
      "C:\\Users\\hafeez_poldz\\Anaconda3\\lib\\site-packages\\sklearn\\preprocessing\\label.py:151: DeprecationWarning: The truth value of an empty array is ambiguous. Returning False, but in future this will result in an error. Use `array.size > 0` to check that an array is not empty.\n",
      "  if diff:\n",
      "C:\\Users\\hafeez_poldz\\Anaconda3\\lib\\site-packages\\sklearn\\preprocessing\\label.py:151: DeprecationWarning: The truth value of an empty array is ambiguous. Returning False, but in future this will result in an error. Use `array.size > 0` to check that an array is not empty.\n",
      "  if diff:\n",
      "C:\\Users\\hafeez_poldz\\Anaconda3\\lib\\site-packages\\sklearn\\preprocessing\\label.py:151: DeprecationWarning: The truth value of an empty array is ambiguous. Returning False, but in future this will result in an error. Use `array.size > 0` to check that an array is not empty.\n",
      "  if diff:\n",
      "C:\\Users\\hafeez_poldz\\Anaconda3\\lib\\site-packages\\sklearn\\preprocessing\\label.py:151: DeprecationWarning: The truth value of an empty array is ambiguous. Returning False, but in future this will result in an error. Use `array.size > 0` to check that an array is not empty.\n",
      "  if diff:\n",
      "C:\\Users\\hafeez_poldz\\Anaconda3\\lib\\site-packages\\sklearn\\preprocessing\\label.py:151: DeprecationWarning: The truth value of an empty array is ambiguous. Returning False, but in future this will result in an error. Use `array.size > 0` to check that an array is not empty.\n",
      "  if diff:\n",
      "C:\\Users\\hafeez_poldz\\Anaconda3\\lib\\site-packages\\sklearn\\preprocessing\\label.py:151: DeprecationWarning: The truth value of an empty array is ambiguous. Returning False, but in future this will result in an error. Use `array.size > 0` to check that an array is not empty.\n",
      "  if diff:\n",
      "C:\\Users\\hafeez_poldz\\Anaconda3\\lib\\site-packages\\sklearn\\preprocessing\\label.py:151: DeprecationWarning: The truth value of an empty array is ambiguous. Returning False, but in future this will result in an error. Use `array.size > 0` to check that an array is not empty.\n",
      "  if diff:\n",
      "C:\\Users\\hafeez_poldz\\Anaconda3\\lib\\site-packages\\sklearn\\preprocessing\\label.py:151: DeprecationWarning: The truth value of an empty array is ambiguous. Returning False, but in future this will result in an error. Use `array.size > 0` to check that an array is not empty.\n",
      "  if diff:\n",
      "C:\\Users\\hafeez_poldz\\Anaconda3\\lib\\site-packages\\sklearn\\preprocessing\\label.py:151: DeprecationWarning: The truth value of an empty array is ambiguous. Returning False, but in future this will result in an error. Use `array.size > 0` to check that an array is not empty.\n",
      "  if diff:\n",
      "C:\\Users\\hafeez_poldz\\Anaconda3\\lib\\site-packages\\sklearn\\preprocessing\\label.py:151: DeprecationWarning: The truth value of an empty array is ambiguous. Returning False, but in future this will result in an error. Use `array.size > 0` to check that an array is not empty.\n",
      "  if diff:\n",
      "C:\\Users\\hafeez_poldz\\Anaconda3\\lib\\site-packages\\sklearn\\preprocessing\\label.py:151: DeprecationWarning: The truth value of an empty array is ambiguous. Returning False, but in future this will result in an error. Use `array.size > 0` to check that an array is not empty.\n",
      "  if diff:\n",
      "C:\\Users\\hafeez_poldz\\Anaconda3\\lib\\site-packages\\sklearn\\preprocessing\\label.py:151: DeprecationWarning: The truth value of an empty array is ambiguous. Returning False, but in future this will result in an error. Use `array.size > 0` to check that an array is not empty.\n",
      "  if diff:\n",
      "C:\\Users\\hafeez_poldz\\Anaconda3\\lib\\site-packages\\sklearn\\preprocessing\\label.py:151: DeprecationWarning: The truth value of an empty array is ambiguous. Returning False, but in future this will result in an error. Use `array.size > 0` to check that an array is not empty.\n",
      "  if diff:\n",
      "C:\\Users\\hafeez_poldz\\Anaconda3\\lib\\site-packages\\sklearn\\preprocessing\\label.py:151: DeprecationWarning: The truth value of an empty array is ambiguous. Returning False, but in future this will result in an error. Use `array.size > 0` to check that an array is not empty.\n",
      "  if diff:\n",
      "C:\\Users\\hafeez_poldz\\Anaconda3\\lib\\site-packages\\sklearn\\preprocessing\\label.py:151: DeprecationWarning: The truth value of an empty array is ambiguous. Returning False, but in future this will result in an error. Use `array.size > 0` to check that an array is not empty.\n",
      "  if diff:\n",
      "C:\\Users\\hafeez_poldz\\Anaconda3\\lib\\site-packages\\sklearn\\preprocessing\\label.py:151: DeprecationWarning: The truth value of an empty array is ambiguous. Returning False, but in future this will result in an error. Use `array.size > 0` to check that an array is not empty.\n",
      "  if diff:\n",
      "C:\\Users\\hafeez_poldz\\Anaconda3\\lib\\site-packages\\sklearn\\preprocessing\\label.py:151: DeprecationWarning: The truth value of an empty array is ambiguous. Returning False, but in future this will result in an error. Use `array.size > 0` to check that an array is not empty.\n",
      "  if diff:\n",
      "C:\\Users\\hafeez_poldz\\Anaconda3\\lib\\site-packages\\sklearn\\preprocessing\\label.py:151: DeprecationWarning: The truth value of an empty array is ambiguous. Returning False, but in future this will result in an error. Use `array.size > 0` to check that an array is not empty.\n",
      "  if diff:\n"
     ]
    },
    {
     "name": "stderr",
     "output_type": "stream",
     "text": [
      "C:\\Users\\hafeez_poldz\\Anaconda3\\lib\\site-packages\\sklearn\\preprocessing\\label.py:151: DeprecationWarning: The truth value of an empty array is ambiguous. Returning False, but in future this will result in an error. Use `array.size > 0` to check that an array is not empty.\n",
      "  if diff:\n",
      "C:\\Users\\hafeez_poldz\\Anaconda3\\lib\\site-packages\\sklearn\\preprocessing\\label.py:151: DeprecationWarning: The truth value of an empty array is ambiguous. Returning False, but in future this will result in an error. Use `array.size > 0` to check that an array is not empty.\n",
      "  if diff:\n"
     ]
    },
    {
     "name": "stdout",
     "output_type": "stream",
     "text": [
      "Best parameters: {'learning_rate': 0.2, 'max_depth': 5}\n"
     ]
    },
    {
     "name": "stderr",
     "output_type": "stream",
     "text": [
      "C:\\Users\\hafeez_poldz\\Anaconda3\\lib\\site-packages\\sklearn\\preprocessing\\label.py:151: DeprecationWarning: The truth value of an empty array is ambiguous. Returning False, but in future this will result in an error. Use `array.size > 0` to check that an array is not empty.\n",
      "  if diff:\n",
      "C:\\Users\\hafeez_poldz\\Anaconda3\\lib\\site-packages\\sklearn\\preprocessing\\label.py:151: DeprecationWarning: The truth value of an empty array is ambiguous. Returning False, but in future this will result in an error. Use `array.size > 0` to check that an array is not empty.\n",
      "  if diff:\n",
      "C:\\Users\\hafeez_poldz\\Anaconda3\\lib\\site-packages\\sklearn\\preprocessing\\label.py:151: DeprecationWarning: The truth value of an empty array is ambiguous. Returning False, but in future this will result in an error. Use `array.size > 0` to check that an array is not empty.\n",
      "  if diff:\n",
      "C:\\Users\\hafeez_poldz\\Anaconda3\\lib\\site-packages\\sklearn\\preprocessing\\label.py:151: DeprecationWarning: The truth value of an empty array is ambiguous. Returning False, but in future this will result in an error. Use `array.size > 0` to check that an array is not empty.\n",
      "  if diff:\n",
      "C:\\Users\\hafeez_poldz\\Anaconda3\\lib\\site-packages\\sklearn\\preprocessing\\label.py:151: DeprecationWarning: The truth value of an empty array is ambiguous. Returning False, but in future this will result in an error. Use `array.size > 0` to check that an array is not empty.\n",
      "  if diff:\n"
     ]
    },
    {
     "name": "stdout",
     "output_type": "stream",
     "text": [
      "Cross-validation stats: mean: 0.94, std: 0.01\n"
     ]
    },
    {
     "name": "stderr",
     "output_type": "stream",
     "text": [
      "C:\\Users\\hafeez_poldz\\Anaconda3\\lib\\site-packages\\sklearn\\preprocessing\\label.py:151: DeprecationWarning: The truth value of an empty array is ambiguous. Returning False, but in future this will result in an error. Use `array.size > 0` to check that an array is not empty.\n",
      "  if diff:\n"
     ]
    },
    {
     "name": "stdout",
     "output_type": "stream",
     "text": [
      "\n",
      "Train Accuracy Score: 0.96875\n"
     ]
    },
    {
     "name": "stderr",
     "output_type": "stream",
     "text": [
      "C:\\Users\\hafeez_poldz\\Anaconda3\\lib\\site-packages\\sklearn\\preprocessing\\label.py:151: DeprecationWarning: The truth value of an empty array is ambiguous. Returning False, but in future this will result in an error. Use `array.size > 0` to check that an array is not empty.\n",
      "  if diff:\n"
     ]
    },
    {
     "name": "stdout",
     "output_type": "stream",
     "text": [
      "\n",
      "Test Accuracy Score: 0.946875\n"
     ]
    },
    {
     "name": "stderr",
     "output_type": "stream",
     "text": [
      "C:\\Users\\hafeez_poldz\\Anaconda3\\lib\\site-packages\\sklearn\\preprocessing\\label.py:151: DeprecationWarning: The truth value of an empty array is ambiguous. Returning False, but in future this will result in an error. Use `array.size > 0` to check that an array is not empty.\n",
      "  if diff:\n"
     ]
    },
    {
     "data": {
      "image/png": "[encoded data removed]",
      "text/plain": [
       "<Figure size 432x288 with 2 Axes>"
      ]
     },
     "metadata": {
      "needs_background": "light"
     },
     "output_type": "display_data"
    },
    {
     "name": "stdout",
     "output_type": "stream",
     "text": [
      "1669.5165615081787 seconds.\n"
     ]
    }
   ],
   "source": [
    "max_depth = [3, 5]\n",
    "learning_rate = [0.1, 0.2, 0.3]\n",
    "\n",
    "params = dict(max_depth = max_depth, \n",
    "              learning_rate = learning_rate)\n",
    "\n",
    "# initialize the classifier\n",
    "xgb = xgb.XGBClassifier()\n",
    "\n",
    "run_model(xgb, params, X_train, y_train, X_test, y_test, features='BOW',i=4)"
   ]
  },
  {
   "cell_type": "markdown",
   "metadata": {},
   "source": [
    "### 3.3.3 Multi-layer Perceptron on BoW"
   ]
  },
  {
   "cell_type": "code",
   "execution_count": 18,
   "metadata": {},
   "outputs": [
    {
     "name": "stdout",
     "output_type": "stream",
     "text": [
      "\n",
      " ---------------------------------------- \n",
      " MLPClassifier \n",
      " ----------------------------------------\n",
      "Best parameters: {'activation': 'logistic'}\n",
      "Cross-validation stats: mean: 0.96, std: 0.0\n",
      "\n",
      "Train Accuracy Score: 0.9950657894736842\n",
      "\n",
      "Test Accuracy Score: 0.953125\n"
     ]
    },
    {
     "data": {
      "image/png": "[encoded data removed]",
      "text/plain": [
       "<Figure size 432x288 with 2 Axes>"
      ]
     },
     "metadata": {
      "needs_background": "light"
     },
     "output_type": "display_data"
    },
    {
     "name": "stdout",
     "output_type": "stream",
     "text": [
      "491.8281900882721 seconds.\n"
     ]
    }
   ],
   "source": [
    "params = {'activation': ['logistic', 'relu']}\n",
    "\n",
    "# initialize the classifier\n",
    "mlp = MLPClassifier(hidden_layer_sizes=(25,))\n",
    "\n",
    "run_model(mlp, params, X_train, y_train, X_test, y_test, features='BOW',i=3)"
   ]
  },
  {
   "cell_type": "markdown",
   "metadata": {},
   "source": [
    "### 3.3.5 SVC on BoW"
   ]
  },
  {
   "cell_type": "code",
   "execution_count": 19,
   "metadata": {},
   "outputs": [
    {
     "name": "stdout",
     "output_type": "stream",
     "text": [
      "\n",
      " ---------------------------------------- \n",
      " SVC \n",
      " ----------------------------------------\n",
      "Best parameters: {'C': 0.01}\n",
      "Cross-validation stats: mean: 0.66, std: 0.02\n",
      "\n",
      "Train Accuracy Score: 0.6453947368421052\n",
      "\n",
      "Test Accuracy Score: 0.6364583333333333\n"
     ]
    },
    {
     "data": {
      "image/png": "[encoded data removed]",
      "text/plain": [
       "<Figure size 432x288 with 2 Axes>"
      ]
     },
     "metadata": {
      "needs_background": "light"
     },
     "output_type": "display_data"
    },
    {
     "name": "stdout",
     "output_type": "stream",
     "text": [
      "1002.7062306404114 seconds.\n"
     ]
    }
   ],
   "source": [
    "Cs = [0.01, 0.1, 1]\n",
    "\n",
    "params = dict(C=Cs)\n",
    "\n",
    "# initialize and run the model\n",
    "svc = SVC(kernel = 'rbf')\n",
    "run_model(svc, params, X_train, y_train, X_test, y_test, features = 'BOW', i=4)"
   ]
  },
  {
   "cell_type": "markdown",
   "metadata": {},
   "source": [
    "## Results for Bag-of-Words Feature Generation"
   ]
  },
  {
   "cell_type": "code",
   "execution_count": 20,
   "metadata": {},
   "outputs": [
    {
     "data": {
      "text/html": [
       "<div>\n",
       "<style scoped>\n",
       "    .dataframe tbody tr th:only-of-type {\n",
       "        vertical-align: middle;\n",
       "    }\n",
       "\n",
       "    .dataframe tbody tr th {\n",
       "        vertical-align: top;\n",
       "    }\n",
       "\n",
       "    .dataframe thead th {\n",
       "        text-align: right;\n",
       "    }\n",
       "</style>\n",
       "<table border=\"1\" class=\"dataframe\">\n",
       "  <thead>\n",
       "    <tr style=\"text-align: right;\">\n",
       "      <th></th>\n",
       "      <th>Model</th>\n",
       "      <th>n_train</th>\n",
       "      <th>Features</th>\n",
       "      <th>Cross_Val_Mean</th>\n",
       "      <th>Cross_Val_Std</th>\n",
       "      <th>Train_Accuracy</th>\n",
       "      <th>Test_Accuracy</th>\n",
       "    </tr>\n",
       "  </thead>\n",
       "  <tbody>\n",
       "    <tr>\n",
       "      <th>1</th>\n",
       "      <td>LogisticRegression</td>\n",
       "      <td>3040</td>\n",
       "      <td>BOW</td>\n",
       "      <td>0.963487</td>\n",
       "      <td>0.00544505</td>\n",
       "      <td>0.984868</td>\n",
       "      <td>0.958333</td>\n",
       "    </tr>\n",
       "    <tr>\n",
       "      <th>2</th>\n",
       "      <td>RandomForestClassifier</td>\n",
       "      <td>3040</td>\n",
       "      <td>BOW</td>\n",
       "      <td>0.928947</td>\n",
       "      <td>0.00573539</td>\n",
       "      <td>0.996382</td>\n",
       "      <td>0.938542</td>\n",
       "    </tr>\n",
       "    <tr>\n",
       "      <th>4</th>\n",
       "      <td>XGBClassifier</td>\n",
       "      <td>3040</td>\n",
       "      <td>BOW</td>\n",
       "      <td>0.941447</td>\n",
       "      <td>0.0117963</td>\n",
       "      <td>0.96875</td>\n",
       "      <td>0.946875</td>\n",
       "    </tr>\n",
       "    <tr>\n",
       "      <th>3</th>\n",
       "      <td>MLPClassifier</td>\n",
       "      <td>3040</td>\n",
       "      <td>BOW</td>\n",
       "      <td>0.959539</td>\n",
       "      <td>0.00383615</td>\n",
       "      <td>0.995066</td>\n",
       "      <td>0.953125</td>\n",
       "    </tr>\n",
       "    <tr>\n",
       "      <th>5</th>\n",
       "      <td>SVC</td>\n",
       "      <td>3040</td>\n",
       "      <td>BOW</td>\n",
       "      <td>0.658882</td>\n",
       "      <td>0.0215605</td>\n",
       "      <td>0.645395</td>\n",
       "      <td>0.636458</td>\n",
       "    </tr>\n",
       "  </tbody>\n",
       "</table>\n",
       "</div>"
      ],
      "text/plain": [
       "                    Model n_train Features Cross_Val_Mean Cross_Val_Std  \\\n",
       "1      LogisticRegression    3040      BOW       0.963487    0.00544505   \n",
       "2  RandomForestClassifier    3040      BOW       0.928947    0.00573539   \n",
       "4           XGBClassifier    3040      BOW       0.941447     0.0117963   \n",
       "3           MLPClassifier    3040      BOW       0.959539    0.00383615   \n",
       "5                     SVC    3040      BOW       0.658882     0.0215605   \n",
       "\n",
       "  Train_Accuracy Test_Accuracy  \n",
       "1       0.984868      0.958333  \n",
       "2       0.996382      0.938542  \n",
       "4        0.96875      0.946875  \n",
       "3       0.995066      0.953125  \n",
       "5       0.645395      0.636458  "
      ]
     },
     "execution_count": 20,
     "metadata": {},
     "output_type": "execute_result"
    }
   ],
   "source": [
    "report"
   ]
  },
  {
   "cell_type": "markdown",
   "metadata": {},
   "source": [
    "# 4. Unsupervised Feature Generation\n",
    "\n",
    "Different from supervised approach, unsupervised NLP does not require pre-labelled data. As `Unsupervised Feature Generaton` I'll apply `Latent Semantic Analysis` to generate features and fit them to the supervised learning models as I did above. LSA is the process of applying PCA to a tf-idf term-document matrix. In the end we get clusters of terms that presumably reflect a topic. Each document will get a score for each category, with higher scores indicating that the document is relevant to the category. Documents can pertain to more than one category.\n",
    "\n",
    "## 4.1 Latent Semantic Analysis (LSA)\n",
    "\n",
    "Latent Semantic Analysis doesn't identify the most common words present in each article as BoW does. But it identifies thematic components present in the text. Each cell doesn't contain a count, but rather a measure of how well a given feature is exemplified by the current document. I'll vectorize BoW headlines to keep the same amount of data for feature generation."
   ]
  },
  {
   "cell_type": "code",
   "execution_count": 21,
   "metadata": {},
   "outputs": [
    {
     "name": "stdout",
     "output_type": "stream",
     "text": [
      "Number of features: 617\n"
     ]
    }
   ],
   "source": [
    "vectorizer = TfidfVectorizer(max_df=0.3, # drop words that occur in more than X percent of documents\n",
    "                             min_df=9, # only use words that appear at least X times\n",
    "                             stop_words='english', \n",
    "                             lowercase=True, #convert everything to lower case \n",
    "                             use_idf=True,#we definitely want to use inverse document frequencies in our weighting\n",
    "                             norm=u'l2', #Applies a correction factor so that longer paragraphs and shorter paragraphs get treated equally\n",
    "                             smooth_idf=True #Adds 1 to all document frequencies, as if an extra document existed that used every word once.  Prevents divide-by-zero errors\n",
    "                            )\n",
    "\n",
    "# pass news headlines to the vectorizer model\n",
    "counts_tfidf = vectorizer.fit_transform(bow_counts['HEADLINE'])\n",
    "\n",
    "print(\"Number of features: %d\" % counts_tfidf.get_shape()[1])"
   ]
  },
  {
   "cell_type": "code",
   "execution_count": 22,
   "metadata": {},
   "outputs": [
    {
     "name": "stdout",
     "output_type": "stream",
     "text": [
      "variance captured by all components:  0.9684\n"
     ]
    }
   ],
   "source": [
    "# reducing the number of features\n",
    "svd = TruncatedSVD(500)\n",
    "svd.fit(counts_tfidf)\n",
    "print('variance captured by all components: ', round(svd.explained_variance_ratio_.sum(),4))"
   ]
  },
  {
   "cell_type": "code",
   "execution_count": 23,
   "metadata": {},
   "outputs": [
    {
     "data": {
      "text/plain": [
       "(4000, 500)"
      ]
     },
     "execution_count": 23,
     "metadata": {},
     "output_type": "execute_result"
    }
   ],
   "source": [
    "lsa = make_pipeline(svd, Normalizer(copy=False))\n",
    "lsa_data = lsa.fit_transform(counts_tfidf)\n",
    "lsa_data.shape"
   ]
  },
  {
   "cell_type": "code",
   "execution_count": 24,
   "metadata": {},
   "outputs": [
    {
     "data": {
      "text/html": [
       "<div>\n",
       "<style scoped>\n",
       "    .dataframe tbody tr th:only-of-type {\n",
       "        vertical-align: middle;\n",
       "    }\n",
       "\n",
       "    .dataframe tbody tr th {\n",
       "        vertical-align: top;\n",
       "    }\n",
       "\n",
       "    .dataframe thead th {\n",
       "        text-align: right;\n",
       "    }\n",
       "</style>\n",
       "<table border=\"1\" class=\"dataframe\">\n",
       "  <thead>\n",
       "    <tr style=\"text-align: right;\">\n",
       "      <th></th>\n",
       "      <th>0</th>\n",
       "      <th>1</th>\n",
       "      <th>2</th>\n",
       "      <th>3</th>\n",
       "      <th>4</th>\n",
       "      <th>5</th>\n",
       "      <th>6</th>\n",
       "      <th>7</th>\n",
       "      <th>8</th>\n",
       "      <th>9</th>\n",
       "      <th>...</th>\n",
       "      <th>490</th>\n",
       "      <th>491</th>\n",
       "      <th>492</th>\n",
       "      <th>493</th>\n",
       "      <th>494</th>\n",
       "      <th>495</th>\n",
       "      <th>496</th>\n",
       "      <th>497</th>\n",
       "      <th>498</th>\n",
       "      <th>499</th>\n",
       "    </tr>\n",
       "  </thead>\n",
       "  <tbody>\n",
       "    <tr>\n",
       "      <th>0</th>\n",
       "      <td>0.019910</td>\n",
       "      <td>0.006980</td>\n",
       "      <td>0.044239</td>\n",
       "      <td>-0.011416</td>\n",
       "      <td>0.021591</td>\n",
       "      <td>0.368417</td>\n",
       "      <td>0.337042</td>\n",
       "      <td>0.091259</td>\n",
       "      <td>-0.010107</td>\n",
       "      <td>-0.114228</td>\n",
       "      <td>...</td>\n",
       "      <td>0.050925</td>\n",
       "      <td>-0.001168</td>\n",
       "      <td>-0.007392</td>\n",
       "      <td>-0.023926</td>\n",
       "      <td>-0.034212</td>\n",
       "      <td>0.019864</td>\n",
       "      <td>0.002306</td>\n",
       "      <td>-0.018096</td>\n",
       "      <td>-0.019105</td>\n",
       "      <td>-0.010632</td>\n",
       "    </tr>\n",
       "    <tr>\n",
       "      <th>1</th>\n",
       "      <td>0.025856</td>\n",
       "      <td>0.009829</td>\n",
       "      <td>0.062334</td>\n",
       "      <td>-0.014910</td>\n",
       "      <td>0.023333</td>\n",
       "      <td>0.511370</td>\n",
       "      <td>0.468213</td>\n",
       "      <td>0.127289</td>\n",
       "      <td>-0.015139</td>\n",
       "      <td>-0.161734</td>\n",
       "      <td>...</td>\n",
       "      <td>-0.002086</td>\n",
       "      <td>-0.003950</td>\n",
       "      <td>-0.001962</td>\n",
       "      <td>0.001263</td>\n",
       "      <td>0.005726</td>\n",
       "      <td>-0.000737</td>\n",
       "      <td>-0.000553</td>\n",
       "      <td>0.001435</td>\n",
       "      <td>-0.002723</td>\n",
       "      <td>-0.001375</td>\n",
       "    </tr>\n",
       "    <tr>\n",
       "      <th>2</th>\n",
       "      <td>0.006363</td>\n",
       "      <td>0.006246</td>\n",
       "      <td>0.029082</td>\n",
       "      <td>-0.028987</td>\n",
       "      <td>0.015317</td>\n",
       "      <td>0.334446</td>\n",
       "      <td>0.318393</td>\n",
       "      <td>0.078304</td>\n",
       "      <td>-0.009329</td>\n",
       "      <td>-0.108113</td>\n",
       "      <td>...</td>\n",
       "      <td>-0.008019</td>\n",
       "      <td>-0.009869</td>\n",
       "      <td>-0.008185</td>\n",
       "      <td>-0.016293</td>\n",
       "      <td>0.003405</td>\n",
       "      <td>0.008299</td>\n",
       "      <td>-0.007198</td>\n",
       "      <td>0.016908</td>\n",
       "      <td>-0.015597</td>\n",
       "      <td>-0.009392</td>\n",
       "    </tr>\n",
       "    <tr>\n",
       "      <th>3</th>\n",
       "      <td>0.005619</td>\n",
       "      <td>0.005962</td>\n",
       "      <td>0.020358</td>\n",
       "      <td>-0.019276</td>\n",
       "      <td>0.012702</td>\n",
       "      <td>0.264051</td>\n",
       "      <td>0.247799</td>\n",
       "      <td>0.060889</td>\n",
       "      <td>-0.006882</td>\n",
       "      <td>-0.079606</td>\n",
       "      <td>...</td>\n",
       "      <td>-0.017235</td>\n",
       "      <td>0.015092</td>\n",
       "      <td>-0.013406</td>\n",
       "      <td>-0.021657</td>\n",
       "      <td>0.023605</td>\n",
       "      <td>0.029365</td>\n",
       "      <td>0.001898</td>\n",
       "      <td>-0.005370</td>\n",
       "      <td>0.002482</td>\n",
       "      <td>-0.027225</td>\n",
       "    </tr>\n",
       "    <tr>\n",
       "      <th>4</th>\n",
       "      <td>0.008640</td>\n",
       "      <td>0.009189</td>\n",
       "      <td>0.038312</td>\n",
       "      <td>-0.040418</td>\n",
       "      <td>0.018512</td>\n",
       "      <td>0.396312</td>\n",
       "      <td>0.327551</td>\n",
       "      <td>0.056066</td>\n",
       "      <td>0.000974</td>\n",
       "      <td>-0.011177</td>\n",
       "      <td>...</td>\n",
       "      <td>-0.009520</td>\n",
       "      <td>-0.017606</td>\n",
       "      <td>0.008392</td>\n",
       "      <td>0.008416</td>\n",
       "      <td>0.009391</td>\n",
       "      <td>0.016709</td>\n",
       "      <td>-0.008548</td>\n",
       "      <td>-0.004016</td>\n",
       "      <td>0.014548</td>\n",
       "      <td>0.007104</td>\n",
       "    </tr>\n",
       "  </tbody>\n",
       "</table>\n",
       "<p>5 rows × 500 columns</p>\n",
       "</div>"
      ],
      "text/plain": [
       "        0         1         2         3         4         5         6    \\\n",
       "0  0.019910  0.006980  0.044239 -0.011416  0.021591  0.368417  0.337042   \n",
       "1  0.025856  0.009829  0.062334 -0.014910  0.023333  0.511370  0.468213   \n",
       "2  0.006363  0.006246  0.029082 -0.028987  0.015317  0.334446  0.318393   \n",
       "3  0.005619  0.005962  0.020358 -0.019276  0.012702  0.264051  0.247799   \n",
       "4  0.008640  0.009189  0.038312 -0.040418  0.018512  0.396312  0.327551   \n",
       "\n",
       "        7         8         9    ...       490       491       492       493  \\\n",
       "0  0.091259 -0.010107 -0.114228  ...  0.050925 -0.001168 -0.007392 -0.023926   \n",
       "1  0.127289 -0.015139 -0.161734  ... -0.002086 -0.003950 -0.001962  0.001263   \n",
       "2  0.078304 -0.009329 -0.108113  ... -0.008019 -0.009869 -0.008185 -0.016293   \n",
       "3  0.060889 -0.006882 -0.079606  ... -0.017235  0.015092 -0.013406 -0.021657   \n",
       "4  0.056066  0.000974 -0.011177  ... -0.009520 -0.017606  0.008392  0.008416   \n",
       "\n",
       "        494       495       496       497       498       499  \n",
       "0 -0.034212  0.019864  0.002306 -0.018096 -0.019105 -0.010632  \n",
       "1  0.005726 -0.000737 -0.000553  0.001435 -0.002723 -0.001375  \n",
       "2  0.003405  0.008299 -0.007198  0.016908 -0.015597 -0.009392  \n",
       "3  0.023605  0.029365  0.001898 -0.005370  0.002482 -0.027225  \n",
       "4  0.009391  0.016709 -0.008548 -0.004016  0.014548  0.007104  \n",
       "\n",
       "[5 rows x 500 columns]"
      ]
     },
     "execution_count": 24,
     "metadata": {},
     "output_type": "execute_result"
    }
   ],
   "source": [
    "# create dataset from LSA data\n",
    "lsa_data = pd.DataFrame(lsa_data)\n",
    "lsa_data.head()"
   ]
  },
  {
   "cell_type": "markdown",
   "metadata": {},
   "source": [
    "## 4.2 Classification on LSA\n",
    "So we have 500 features to feed the supervised learning algorithms and compare the results for BoW and LSA features."
   ]
  },
  {
   "cell_type": "code",
   "execution_count": 25,
   "metadata": {},
   "outputs": [
    {
     "data": {
      "text/plain": [
       "(3040, 500)"
      ]
     },
     "execution_count": 25,
     "metadata": {},
     "output_type": "execute_result"
    }
   ],
   "source": [
    "# define input and output variables\n",
    "y = bow_counts['CATEGORY']\n",
    "X = lsa_data\n",
    "\n",
    "# split data into train and test sets\n",
    "X_train, X_test, y_train, y_test = train_test_split(X, y, test_size=0.24, random_state=0, stratify=y)\n",
    "\n",
    "X_train.shape"
   ]
  },
  {
   "cell_type": "markdown",
   "metadata": {},
   "source": [
    "### 4.2.1 LogisticRegression on LSA"
   ]
  },
  {
   "cell_type": "code",
   "execution_count": 26,
   "metadata": {},
   "outputs": [
    {
     "name": "stdout",
     "output_type": "stream",
     "text": [
      "\n",
      " ---------------------------------------- \n",
      " LogisticRegression \n",
      " ----------------------------------------\n",
      "Best parameters: {'C': 1, 'penalty': 'l2', 'solver': 'saga'}\n",
      "Cross-validation stats: mean: 0.95, std: 0.01\n",
      "\n",
      "Train Accuracy Score: 0.9710526315789474\n",
      "\n",
      "Test Accuracy Score: 0.959375\n"
     ]
    },
    {
     "data": {
      "image/png": "[encoded data removed]",
      "text/plain": [
       "<Figure size 432x288 with 2 Axes>"
      ]
     },
     "metadata": {
      "needs_background": "light"
     },
     "output_type": "display_data"
    },
    {
     "name": "stdout",
     "output_type": "stream",
     "text": [
      "196.317312002182 seconds.\n"
     ]
    }
   ],
   "source": [
    "params = [{\n",
    "    'solver': ['newton-cg', 'lbfgs', 'sag'],\n",
    "    'C': [0.3, 0.5, 0.7, 1],\n",
    "    'penalty': ['l2']\n",
    "    },{\n",
    "    'solver': ['liblinear','saga'],\n",
    "    'C': [0.3, 0.5, 0.7, 1],\n",
    "    'penalty': ['l1','l2']\n",
    "}]\n",
    "\n",
    "lr = LogisticRegression(\n",
    "    n_jobs=-1 # Use all CPU\n",
    ")\n",
    "\n",
    "run_model(lr, params, X_train, y_train, X_test, y_test, features='LSA',i=5)"
   ]
  },
  {
   "cell_type": "markdown",
   "metadata": {},
   "source": [
    "### 4.2.2 RandomForestClassifier on LSA"
   ]
  },
  {
   "cell_type": "code",
   "execution_count": 27,
   "metadata": {},
   "outputs": [
    {
     "name": "stdout",
     "output_type": "stream",
     "text": [
      "\n",
      " ---------------------------------------- \n",
      " RandomForestClassifier \n",
      " ----------------------------------------\n",
      "Best parameters: {'criterion': 'entropy'}\n",
      "Cross-validation stats: mean: 0.93, std: 0.01\n",
      "\n",
      "Train Accuracy Score: 0.9911184210526316\n",
      "\n",
      "Test Accuracy Score: 0.946875\n"
     ]
    },
    {
     "data": {
      "image/png": "[encoded data removed]",
      "text/plain": [
       "<Figure size 432x288 with 2 Axes>"
      ]
     },
     "metadata": {
      "needs_background": "light"
     },
     "output_type": "display_data"
    },
    {
     "name": "stdout",
     "output_type": "stream",
     "text": [
      "584.4890828132629 seconds.\n"
     ]
    }
   ],
   "source": [
    "params = {\n",
    "    'criterion':['entropy','gini'],\n",
    "}\n",
    "\n",
    "# initialize the classifier\n",
    "rfc = RandomForestClassifier(\n",
    "    n_estimators=100,\n",
    "    max_features=None,\n",
    "    n_jobs=-1,\n",
    ")\n",
    "\n",
    "run_model(rfc, params, X_train, y_train, X_test, y_test, features='LSA',i=6)"
   ]
  },
  {
   "cell_type": "markdown",
   "metadata": {},
   "source": [
    "### 4.2.3 XGBoost on LSA"
   ]
  },
  {
   "cell_type": "code",
   "execution_count": 28,
   "metadata": {},
   "outputs": [
    {
     "ename": "AttributeError",
     "evalue": "'XGBClassifier' object has no attribute 'XGBClassifier'",
     "output_type": "error",
     "traceback": [
      "\u001b[1;31m---------------------------------------------------------------------------\u001b[0m",
      "\u001b[1;31mAttributeError\u001b[0m                            Traceback (most recent call last)",
      "\u001b[1;32m<ipython-input-28-ff764a84c29b>\u001b[0m in \u001b[0;36m<module>\u001b[1;34m\u001b[0m\n\u001b[0;32m      6\u001b[0m \u001b[1;33m\u001b[0m\u001b[0m\n\u001b[0;32m      7\u001b[0m \u001b[1;31m# initialize the classifier\u001b[0m\u001b[1;33m\u001b[0m\u001b[1;33m\u001b[0m\u001b[1;33m\u001b[0m\u001b[0m\n\u001b[1;32m----> 8\u001b[1;33m \u001b[0mxgb\u001b[0m \u001b[1;33m=\u001b[0m \u001b[0mxgb\u001b[0m\u001b[1;33m.\u001b[0m\u001b[0mXGBClassifier\u001b[0m\u001b[1;33m(\u001b[0m\u001b[1;33m)\u001b[0m\u001b[1;33m\u001b[0m\u001b[1;33m\u001b[0m\u001b[0m\n\u001b[0m\u001b[0;32m      9\u001b[0m \u001b[1;33m\u001b[0m\u001b[0m\n\u001b[0;32m     10\u001b[0m \u001b[0mrun_model\u001b[0m\u001b[1;33m(\u001b[0m\u001b[0mxgb\u001b[0m\u001b[1;33m,\u001b[0m \u001b[0mparams\u001b[0m\u001b[1;33m,\u001b[0m \u001b[0mX_train\u001b[0m\u001b[1;33m,\u001b[0m \u001b[0my_train\u001b[0m\u001b[1;33m,\u001b[0m \u001b[0mX_test\u001b[0m\u001b[1;33m,\u001b[0m \u001b[0my_test\u001b[0m\u001b[1;33m,\u001b[0m \u001b[0mfeatures\u001b[0m\u001b[1;33m=\u001b[0m\u001b[1;34m'LSA'\u001b[0m\u001b[1;33m,\u001b[0m\u001b[0mi\u001b[0m\u001b[1;33m=\u001b[0m\u001b[1;36m8\u001b[0m\u001b[1;33m)\u001b[0m\u001b[1;33m\u001b[0m\u001b[1;33m\u001b[0m\u001b[0m\n",
      "\u001b[1;31mAttributeError\u001b[0m: 'XGBClassifier' object has no attribute 'XGBClassifier'"
     ]
    }
   ],
   "source": [
    "max_depth = [3, 5]\n",
    "learning_rate = [0.1, 0.2, 0.3]\n",
    "\n",
    "params = dict(max_depth = max_depth, \n",
    "              learning_rate = learning_rate)\n",
    "\n",
    "# initialize the classifier\n",
    "xgb = xgb.XGBClassifier()\n",
    "\n",
    "run_model(xgb, params, X_train, y_train, X_test, y_test, features='LSA',i=7)"
   ]
  },
  {
   "cell_type": "markdown",
   "metadata": {},
   "source": [
    "### 4.2.4 Multi-layer Perceptron on LSA"
   ]
  },
  {
   "cell_type": "code",
   "execution_count": null,
   "metadata": {},
   "outputs": [],
   "source": [
    "params = {'activation': ['logistic', 'relu']}\n",
    "\n",
    "# initialize the classifier\n",
    "mlp = MLPClassifier(hidden_layer_sizes=(25,))\n",
    "\n",
    "run_model(mlp, params, X_train, y_train, X_test, y_test, features='LSA',i=8)"
   ]
  },
  {
   "cell_type": "code",
   "execution_count": null,
   "metadata": {},
   "outputs": [],
   "source": [
    "report"
   ]
  },
  {
   "cell_type": "markdown",
   "metadata": {},
   "source": [
    "## 5. Choosing Model\n",
    "All the performances of the models are hold in `report` dataframe. To compare algorithms, I'll sort results by `Test_Accuracy`. Second accuracy indicator I'll preferer `Mutual_Info`."
   ]
  },
  {
   "cell_type": "code",
   "execution_count": null,
   "metadata": {},
   "outputs": [],
   "source": [
    "report.sort_values(by = ['Test_Accuracy', 'Mutual_Info'], ascending = False)"
   ]
  },
  {
   "cell_type": "markdown",
   "metadata": {},
   "source": [
    "* For all models `n_train` size is 3040\n",
    "* All the LSA generated feature solutions are at the top\n",
    "* LogisticRegression classifies the data with the highest accuracy score. \n",
    "* Though LogisticRegression predicts with the highest accuracy, MLP Classifier performs almost 3 times faster being the second most accurate model."
   ]
  },
  {
   "cell_type": "markdown",
   "metadata": {},
   "source": [
    "# Conclusion\n",
    "\n",
    "<b>Algorithm</b>\n",
    "Clearly, LogisticRegression algorithm gives the most accurate predicting results with the both feature generation solutions. However, it is 3 times slower than MLP Classifier. With more nodes and layers, runtime for MLP Classifier might vary, but its accuracy score is very close to the LogisticRegression. \n",
    "* Fastest with high accuracy: MLP Classifier\n",
    "* Most accurate with slower runtime: LogisticRegression\n",
    "\n",
    "<b>Feature-generation solution</b>\n",
    "\n",
    "To predict the news categories, classification models on`LSA` features has outperformed `Bag-of-Word`. With less number of features classifiers were faster and more accurate. \n",
    "    "
   ]
  },
  {
   "cell_type": "code",
   "execution_count": null,
   "metadata": {},
   "outputs": [],
   "source": []
  }
 ],
 "metadata": {
  "kernelspec": {
   "display_name": "Python 3",
   "language": "python",
   "name": "python3"
  },
  "language_info": {
   "codemirror_mode": {
    "name": "ipython",
    "version": 3
   },
   "file_extension": ".py",
   "mimetype": "text/x-python",
   "name": "python",
   "nbconvert_exporter": "python",
   "pygments_lexer": "ipython3",
   "version": "3.6.8"
  }
 },
 "nbformat": 4,
 "nbformat_minor": 2
}
